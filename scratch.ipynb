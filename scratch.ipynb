{
 "cells": [
  {
   "cell_type": "code",
   "execution_count": 2,
   "id": "bce0247a-3a18-4d2e-b647-7abe43803a23",
   "metadata": {},
   "outputs": [],
   "source": [
    "# Import statements\n",
    "import numpy as np\n",
    "import pandas as pd\n",
    "import matplotlib.pyplot as plt\n",
    "import xesmf as xe\n",
    "# Load dictionary which containes all 19 year trends\n",
    "TrendDictionary = pd.read_pickle(r'/home/disk/pna2/aodhan/ts_trends.pickle')"
   ]
  },
  {
   "cell_type": "code",
   "execution_count": 15,
   "id": "4e1a319d-cafc-4082-9e08-018d7979a894",
   "metadata": {},
   "outputs": [
    {
     "name": "stderr",
     "output_type": "stream",
     "text": [
      "/home/disk/p/aodhan/anaconda3/lib/python3.7/site-packages/ipykernel_launcher.py:18: VisibleDeprecationWarning: Creating an ndarray from ragged nested sequences (which is a list-or-tuple of lists-or-tuples-or ndarrays with different lengths or shapes) is deprecated. If you meant to do this, you must specify 'dtype=object' when creating the ndarray.\n"
     ]
    },
    {
     "name": "stdout",
     "output_type": "stream",
     "text": [
      "20\n"
     ]
    }
   ],
   "source": [
    "models_for_training_count = 0 # Count of models with at least 10 ensembles\n",
    "for model in TrendDictionary.keys():\n",
    "    if (len(TrendDictionary[model].keys())) >= 11:\n",
    "        models_for_training_count +=1\n",
    "        # CMIP6 models must be regridded, below we define input and output grids\n",
    "        InputGrid = TrendDictionary[model]['grid']\n",
    "        OutputGrid = {\"lon\": np.arange(1.25, 358.751, 2.5), \"lat\": np.arange(-88.75, 88.751, 2.5)}\n",
    "        regridder = xe.Regridder(InputGrid, OutputGrid, \"bilinear\")\n",
    "        \n",
    "        EnsembleTrendsArray = []\n",
    "        for ensemble_name in TrendDictionary[model].keys():\n",
    "            if ensemble_name == 'grid':\n",
    "                continue\n",
    "            ensemble_member = TrendDictionary[model][ensemble_name]\n",
    "            \n",
    "            # return the timeperiods and trend maps in ensemble_member dictionary\n",
    "            result = ensemble_member.items()\n",
    "            data = np.array(list(result))\n",
    "            timeperiods = data[:,0] # not sure if I will need this\n",
    "            trend_maps = data[:,1] # these are the indivisual 19 year trend maps\n",
    "            \n",
    "            # Regrid trend map to 2.5 x 2.5 grid\n",
    "            trend_maps_2p5x2p5 = [regridder(trend_maps[i]) for i in range(0, len(trend_maps))]\n",
    "\n",
    "            # Return all ensemble trends \n",
    "            EnsembleTrendsArray.append(trend_maps_2p5x2p5)\n",
    "        EnsembleTrendsArray = np.array(EnsembleTrendsArray)\n",
    "        ForcedTrend = np.nanmean(EnsembleTrendsArray, axis=0)\n",
    "        NaturalTrendsArray = EnsembleTrendsArray - ForcedTrend\n",
    "print(models_for_training_count)"
   ]
  },
  {
   "cell_type": "code",
   "execution_count": null,
   "id": "5fded5c2",
   "metadata": {},
   "outputs": [],
   "source": []
  }
 ],
 "metadata": {
  "kernelspec": {
   "display_name": "Python 3.7.13 ('base': conda)",
   "language": "python",
   "name": "python3"
  },
  "language_info": {
   "codemirror_mode": {
    "name": "ipython",
    "version": 3
   },
   "file_extension": ".py",
   "mimetype": "text/x-python",
   "name": "python",
   "nbconvert_exporter": "python",
   "pygments_lexer": "ipython3",
   "version": "3.7.13"
  },
  "vscode": {
   "interpreter": {
    "hash": "af835c7fa3f1d66f76e7463e82810696e6cb13c598b94db10ac6143493e4a761"
   }
  }
 },
 "nbformat": 4,
 "nbformat_minor": 5
}
