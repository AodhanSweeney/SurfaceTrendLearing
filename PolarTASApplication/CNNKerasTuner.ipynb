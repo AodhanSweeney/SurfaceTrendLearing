{
 "cells": [
  {
   "cell_type": "code",
   "execution_count": 9,
   "metadata": {},
   "outputs": [],
   "source": [
    "# import statements\n",
    "import numpy as np\n",
    "import xarray as xr\n",
    "import glob\n",
    "import random\n",
    "import PolarTestingTrainingSplit_CV\n",
    "import tensorflow as tf\n",
    "from tensorflow import keras\n",
    "import keras_tuner\n",
    "\n",
    "# Get names of models in which we are testing on\n",
    "path_to_data = '/home/disk/pna2/aodhan/SurfaceTrendLearning/PoChedleyEtAl2022/TASmaps/*_TrendMaps.nc'\n",
    "ModelNames = [i[70:-16] for i in glob.glob(path_to_data)]\n",
    "\n",
    "# Do CV train-test-split \n",
    "TrainingPredictorData, TrainingTargetData, TestingPredictorData, TestingTargetData, TestingTotalTrend = PolarTestingTrainingSplit_CV.training_testing_split(path_to_data)\n"
   ]
  },
  {
   "cell_type": "code",
   "execution_count": 10,
   "metadata": {},
   "outputs": [
    {
     "name": "stdout",
     "output_type": "stream",
     "text": [
      "(8268, 72, 144) (50, 72, 144) (8268, 2) (50, 2)\n"
     ]
    }
   ],
   "source": [
    "# Reshape target and predictor data \n",
    "model_idx = 7\n",
    "TrainingTargetDataShape = np.shape(TrainingTargetData[model_idx])\n",
    "TestinTargetDataShape = np.shape(TestingTargetData[model_idx])\n",
    "TrainingTargetDataReshaped = np.reshape(TrainingTargetData[model_idx], (TrainingTargetDataShape[0], TrainingTargetDataShape[1]*TrainingTargetDataShape[2]))\n",
    "TestingTargetDataReshaped = np.reshape(TestingTargetData[model_idx], (TestinTargetDataShape[0], TestinTargetDataShape[1]*TestinTargetDataShape[2]))\n",
    "TrainingTargetDataReshaped = np.transpose([TrainingTargetDataReshaped[:,0], TrainingTargetDataReshaped[:,3]])\n",
    "TestingTargetDataReshaped = np.transpose([TestingTargetDataReshaped[:,0], TestingTargetDataReshaped[:,3]])\n",
    "TrainingPredictorDataReshaped = np.reshape(TrainingPredictorData[model_idx], (len(TrainingPredictorData[model_idx]),72,144))\n",
    "TestingPredictorDataReshaped = np.reshape(TestingPredictorData[model_idx], (len(TestingPredictorData[model_idx]),72,144))\n",
    "\n",
    "print(np.shape(TrainingPredictorDataReshaped), np.shape(TestingPredictorDataReshaped), np.shape(TrainingTargetDataReshaped), np.shape(TestingTargetDataReshaped))"
   ]
  },
  {
   "cell_type": "code",
   "execution_count": 11,
   "metadata": {},
   "outputs": [],
   "source": [
    "def build_model(hp):  \n",
    "  model = keras.Sequential([\n",
    "    keras.layers.Conv2D(\n",
    "        filters=hp.Int('conv_1_filter', min_value=64, max_value=256, step=16),\n",
    "        kernel_size=hp.Choice('conv_1_kernel', values = [3,5]),\n",
    "        activation='relu',\n",
    "        input_shape=(72,144,1)\n",
    "    ),\n",
    "    keras.layers.Conv2D(\n",
    "        filters=hp.Int('conv_2_filter', min_value=8, max_value=64, step=8),\n",
    "        kernel_size=hp.Choice('conv_2_kernel', values = [3,5]),\n",
    "        activation='relu',\n",
    "    ),\n",
    "    keras.layers.MaxPooling2D(\n",
    "        pool_size=hp.Choice('poolsize', values=[2,3,4,5])\n",
    "    ),\n",
    "    keras.layers.Flatten(),\n",
    "    keras.layers.Dense(\n",
    "        units=hp.Int('dense_1_units', min_value=8, max_value=128, step=16),\n",
    "    ),\n",
    "    keras.layers.Dense(2)\n",
    "  ])\n",
    "  \n",
    "  model.compile(optimizer=keras.optimizers.Adam(hp.Choice('learning_rate', values=[1e-3, 1e-4, 1e-5])),\n",
    "              loss='mean_absolute_error',\n",
    "              metrics=['mean_absolute_error'])\n",
    "  \n",
    "  return model"
   ]
  },
  {
   "cell_type": "code",
   "execution_count": 12,
   "metadata": {},
   "outputs": [],
   "source": [
    "from keras_tuner import RandomSearch\n",
    "from keras_tuner.engine.hyperparameters import HyperParameters"
   ]
  },
  {
   "cell_type": "code",
   "execution_count": 15,
   "metadata": {},
   "outputs": [
    {
     "name": "stdout",
     "output_type": "stream",
     "text": [
      "Trial 25 Complete [00h 10m 01s]\n",
      "val_mean_absolute_error: 0.03954349458217621\n",
      "\n",
      "Best val_mean_absolute_error So Far: 0.03522640839219093\n",
      "Total elapsed time: 05h 22m 52s\n",
      "\n",
      "Search: Running Trial #26\n",
      "\n",
      "Value             |Best Value So Far |Hyperparameter\n",
      "192               |144               |conv_1_filter\n",
      "3                 |5                 |conv_1_kernel\n",
      "32                |40                |conv_2_filter\n",
      "3                 |5                 |conv_2_kernel\n",
      "5                 |2                 |poolsize\n",
      "88                |56                |dense_1_units\n",
      "0.0001            |0.0001            |learning_rate\n",
      "\n",
      "Epoch 1/4\n"
     ]
    },
    {
     "name": "stdout",
     "output_type": "stream",
     "text": [
      "133/233 [================>.............] - ETA: 1:05 - loss: 0.0535 - mean_absolute_error: 0.0535"
     ]
    }
   ],
   "source": [
    "tuner_search=RandomSearch(build_model,\n",
    "                          objective='val_mean_absolute_error',\n",
    "                          max_trials=20, overwrite=True, directory='/home/disk/p/aodhan/SurfaceTrendLearing/PolarTASApplication/output',project_name=\"CNN_trial1\")\n",
    "tuner_search.search(TrainingPredictorDataReshaped, TrainingTargetDataReshaped, epochs=4, validation_split=0.1)"
   ]
  },
  {
   "cell_type": "code",
   "execution_count": null,
   "metadata": {},
   "outputs": [],
   "source": []
  }
 ],
 "metadata": {
  "kernelspec": {
   "display_name": "Python 3.7.13 ('base': conda)",
   "language": "python",
   "name": "python3"
  },
  "language_info": {
   "codemirror_mode": {
    "name": "ipython",
    "version": 3
   },
   "file_extension": ".py",
   "mimetype": "text/x-python",
   "name": "python",
   "nbconvert_exporter": "python",
   "pygments_lexer": "ipython3",
   "version": "3.7.13"
  },
  "orig_nbformat": 4,
  "vscode": {
   "interpreter": {
    "hash": "af835c7fa3f1d66f76e7463e82810696e6cb13c598b94db10ac6143493e4a761"
   }
  }
 },
 "nbformat": 4,
 "nbformat_minor": 2
}
