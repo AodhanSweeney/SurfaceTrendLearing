{
 "cells": [
  {
   "cell_type": "code",
   "execution_count": 43,
   "metadata": {},
   "outputs": [],
   "source": [
    "import numpy as np\n",
    "import xarray as xr\n",
    "import matplotlib.pyplot as plt\n",
    "from scipy import stats\n",
    "\n",
    "# open all data\n",
    "ds = xr.open_dataset('/home/disk/pna2/aodhan/CESM2_LENS/NDJFM_ArcticDataDynamicAdjusted.nc')\n",
    "\n",
    "# find the thermodyanmic and dynamic contributions to all timeseries\n",
    "Thermodynamically_Induced = ds.ArcticTAS_MR_AllEnsembles - ds.ArcticTAS_DynamicallyInduced\n",
    "Dynamically_Induced = ds.ArcticTAS_DynamicallyInduced\n",
    "\n",
    "# find the external and internal components of these thermodynamic and dynamically induced components\n",
    "Thermodynamic_External = np.nanmean(Thermodynamically_Induced, axis=0)\n",
    "Thermodynamic_Internal = Thermodynamically_Induced - Thermodynamic_External\n",
    "Dynamic_External = np.nanmean(Dynamically_Induced, axis=0)\n",
    "Dynamic_Internal = Dynamically_Induced - Dynamic_External\n",
    "\n",
    "# append all data into one array called 'TI_TE_DI_DE'\n",
    "# TI_TE_DI_DE stands for the arrangement of the data i.e., thermo internal, thermo external, dyn internal, dyn external\n",
    "TI_TE_DI_DE = [[Thermodynamic_Internal[x], Thermodynamic_External, Dynamic_Internal[x], Dynamic_External] for x in range(100)]\n",
    "TI_TE_DI_DE = np.swapaxes(TI_TE_DI_DE, 1,2)"
   ]
  },
  {
   "cell_type": "code",
   "execution_count": 44,
   "metadata": {},
   "outputs": [
    {
     "name": "stdout",
     "output_type": "stream",
     "text": [
      "(100, 26, 4, 44)\n"
     ]
    }
   ],
   "source": [
    "print(np.shape(TI_TE_DI_DE))"
   ]
  },
  {
   "cell_type": "code",
   "execution_count": null,
   "metadata": {},
   "outputs": [],
   "source": []
  }
 ],
 "metadata": {
  "kernelspec": {
   "display_name": "Python 3.7.13 ('base': conda)",
   "language": "python",
   "name": "python3"
  },
  "language_info": {
   "codemirror_mode": {
    "name": "ipython",
    "version": 3
   },
   "file_extension": ".py",
   "mimetype": "text/x-python",
   "name": "python",
   "nbconvert_exporter": "python",
   "pygments_lexer": "ipython3",
   "version": "3.7.13"
  },
  "orig_nbformat": 4,
  "vscode": {
   "interpreter": {
    "hash": "af835c7fa3f1d66f76e7463e82810696e6cb13c598b94db10ac6143493e4a761"
   }
  }
 },
 "nbformat": 4,
 "nbformat_minor": 2
}
