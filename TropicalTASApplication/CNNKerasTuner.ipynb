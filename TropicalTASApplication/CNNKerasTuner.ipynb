{
 "cells": [
  {
   "cell_type": "code",
   "execution_count": 4,
   "metadata": {},
   "outputs": [],
   "source": [
    "# import statements\n",
    "import numpy as np\n",
    "import xarray as xr\n",
    "import glob\n",
    "import random\n",
    "import PolarTestingTrainingSplit_CV\n",
    "import tensorflow as tf\n",
    "from tensorflow import keras\n",
    "import keras_tuner\n",
    "\n",
    "# Get names of models in which we are testing on\n",
    "path_to_data = '/home/disk/pna2/aodhan/SurfaceTrendLearning/PoChedleyEtAl2022/TASmaps/*_TrendMaps.nc'\n",
    "ModelNames = [i[70:-16] for i in glob.glob(path_to_data)]\n",
    "\n",
    "# Do CV train-test-split \n",
    "TrainingPredictorData, TrainingTargetData, TestingPredictorData, TestingTargetData, TestingTotalTrend = PolarTestingTrainingSplit_CV.training_testing_split(path_to_data)\n"
   ]
  },
  {
   "cell_type": "code",
   "execution_count": 5,
   "metadata": {},
   "outputs": [
    {
     "name": "stdout",
     "output_type": "stream",
     "text": [
      "(8268, 72, 144) (50, 72, 144) (8268, 2) (50, 2)\n"
     ]
    }
   ],
   "source": [
    "# Reshape target and predictor data \n",
    "model_idx = 7\n",
    "TrainingTargetDataShape = np.shape(TrainingTargetData[model_idx])\n",
    "TestinTargetDataShape = np.shape(TestingTargetData[model_idx])\n",
    "TrainingTargetDataReshaped = np.reshape(TrainingTargetData[model_idx], (TrainingTargetDataShape[0], TrainingTargetDataShape[1]*TrainingTargetDataShape[2]))\n",
    "TestingTargetDataReshaped = np.reshape(TestingTargetData[model_idx], (TestinTargetDataShape[0], TestinTargetDataShape[1]*TestinTargetDataShape[2]))\n",
    "TrainingTargetDataReshaped = np.transpose([TrainingTargetDataReshaped[:,0], TrainingTargetDataReshaped[:,3]])\n",
    "TestingTargetDataReshaped = np.transpose([TestingTargetDataReshaped[:,0], TestingTargetDataReshaped[:,3]])\n",
    "TrainingPredictorDataReshaped = np.reshape(TrainingPredictorData[model_idx], (len(TrainingPredictorData[model_idx]),72,144))\n",
    "TestingPredictorDataReshaped = np.reshape(TestingPredictorData[model_idx], (len(TestingPredictorData[model_idx]),72,144))\n",
    "\n",
    "print(np.shape(TrainingPredictorDataReshaped), np.shape(TestingPredictorDataReshaped), np.shape(TrainingTargetDataReshaped), np.shape(TestingTargetDataReshaped))"
   ]
  },
  {
   "cell_type": "code",
   "execution_count": 6,
   "metadata": {},
   "outputs": [],
   "source": [
    "def build_model(hp):  \n",
    "  model = keras.Sequential([\n",
    "    keras.layers.Conv2D(\n",
    "        filters=hp.Int('conv_1_filter', min_value=8, max_value=128, step=16),\n",
    "        kernel_size=hp.Choice('conv_1_kernel', values = [2,3,4,5]),\n",
    "        activation='relu',\n",
    "        input_shape=(72,144,1)\n",
    "    ),\n",
    "    keras.layers.MaxPooling2D(\n",
    "        pool_size=hp.Choice('poolsize', values=[2,3,4,5])\n",
    "    ),\n",
    "    keras.layers.Flatten(),\n",
    "    keras.layers.Dense(\n",
    "        units=hp.Int('dense_1_units', min_value=4, max_value=32, step=4),\n",
    "    ),\n",
    "    keras.layers.Dense(2)\n",
    "  ])\n",
    "  \n",
    "  model.compile(optimizer=keras.optimizers.Adam(hp.Choice('learning_rate', values=[1e-3, 1e-4, 1e-5])),\n",
    "              loss='mean_absolute_error',\n",
    "              metrics=['mean_absolute_error'])\n",
    "  \n",
    "  return model"
   ]
  },
  {
   "cell_type": "code",
   "execution_count": 7,
   "metadata": {},
   "outputs": [],
   "source": [
    "from keras_tuner import RandomSearch\n",
    "from keras_tuner.engine.hyperparameters import HyperParameters"
   ]
  },
  {
   "cell_type": "code",
   "execution_count": 8,
   "metadata": {},
   "outputs": [
    {
     "name": "stdout",
     "output_type": "stream",
     "text": [
      "Trial 20 Complete [00h 02m 15s]\n",
      "val_mean_absolute_error: 0.012651288881897926\n",
      "\n",
      "Best val_mean_absolute_error So Far: 0.012497637420892715\n",
      "Total elapsed time: 00h 38m 26s\n",
      "INFO:tensorflow:Oracle triggered exit\n"
     ]
    }
   ],
   "source": [
    "tuner_search=RandomSearch(build_model,\n",
    "                          objective='val_mean_absolute_error',\n",
    "                          max_trials=20, overwrite=True, directory='/home/disk/p/aodhan/SurfaceTrendLearing/TropicalTASApplication/output',project_name=\"CNN_trial1\")\n",
    "tuner_search.search(TrainingPredictorDataReshaped, TrainingTargetDataReshaped, epochs=4, validation_split=0.1)"
   ]
  },
  {
   "cell_type": "code",
   "execution_count": 9,
   "metadata": {},
   "outputs": [],
   "source": [
    "model=tuner_search.get_best_models(num_models=1)[0]"
   ]
  },
  {
   "cell_type": "code",
   "execution_count": 11,
   "metadata": {},
   "outputs": [
    {
     "name": "stdout",
     "output_type": "stream",
     "text": [
      "Results summary\n",
      "Results in /home/disk/p/aodhan/SurfaceTrendLearing/TropicalTASApplication/output/CNN_trial1\n",
      "Showing 10 best trials\n",
      "<keras_tuner.engine.objective.Objective object at 0x7f115c75f250>\n",
      "Trial summary\n",
      "Hyperparameters:\n",
      "conv_1_filter: 120\n",
      "conv_1_kernel: 3\n",
      "poolsize: 2\n",
      "dense_1_units: 8\n",
      "learning_rate: 1e-05\n",
      "Score: 0.012497637420892715\n",
      "Trial summary\n",
      "Hyperparameters:\n",
      "conv_1_filter: 72\n",
      "conv_1_kernel: 2\n",
      "poolsize: 2\n",
      "dense_1_units: 4\n",
      "learning_rate: 0.0001\n",
      "Score: 0.012651288881897926\n",
      "Trial summary\n",
      "Hyperparameters:\n",
      "conv_1_filter: 40\n",
      "conv_1_kernel: 5\n",
      "poolsize: 4\n",
      "dense_1_units: 32\n",
      "learning_rate: 0.0001\n",
      "Score: 0.012865300290286541\n",
      "Trial summary\n",
      "Hyperparameters:\n",
      "conv_1_filter: 72\n",
      "conv_1_kernel: 4\n",
      "poolsize: 5\n",
      "dense_1_units: 8\n",
      "learning_rate: 0.0001\n",
      "Score: 0.012995569035410881\n",
      "Trial summary\n",
      "Hyperparameters:\n",
      "conv_1_filter: 104\n",
      "conv_1_kernel: 3\n",
      "poolsize: 4\n",
      "dense_1_units: 20\n",
      "learning_rate: 0.0001\n",
      "Score: 0.013042193837463856\n",
      "Trial summary\n",
      "Hyperparameters:\n",
      "conv_1_filter: 88\n",
      "conv_1_kernel: 4\n",
      "poolsize: 3\n",
      "dense_1_units: 8\n",
      "learning_rate: 0.0001\n",
      "Score: 0.01312418095767498\n",
      "Trial summary\n",
      "Hyperparameters:\n",
      "conv_1_filter: 56\n",
      "conv_1_kernel: 4\n",
      "poolsize: 2\n",
      "dense_1_units: 8\n",
      "learning_rate: 0.0001\n",
      "Score: 0.013422850519418716\n",
      "Trial summary\n",
      "Hyperparameters:\n",
      "conv_1_filter: 56\n",
      "conv_1_kernel: 2\n",
      "poolsize: 4\n",
      "dense_1_units: 20\n",
      "learning_rate: 0.001\n",
      "Score: 0.013596508651971817\n",
      "Trial summary\n",
      "Hyperparameters:\n",
      "conv_1_filter: 88\n",
      "conv_1_kernel: 5\n",
      "poolsize: 4\n",
      "dense_1_units: 28\n",
      "learning_rate: 0.001\n",
      "Score: 0.013680685311555862\n",
      "Trial summary\n",
      "Hyperparameters:\n",
      "conv_1_filter: 40\n",
      "conv_1_kernel: 4\n",
      "poolsize: 4\n",
      "dense_1_units: 20\n",
      "learning_rate: 0.0001\n",
      "Score: 0.013738730922341347\n"
     ]
    }
   ],
   "source": [
    "tuner_search.results_summary()"
   ]
  },
  {
   "cell_type": "code",
   "execution_count": null,
   "metadata": {},
   "outputs": [],
   "source": []
  }
 ],
 "metadata": {
  "kernelspec": {
   "display_name": "Python 3.7.13 ('base': conda)",
   "language": "python",
   "name": "python3"
  },
  "language_info": {
   "codemirror_mode": {
    "name": "ipython",
    "version": 3
   },
   "file_extension": ".py",
   "mimetype": "text/x-python",
   "name": "python",
   "nbconvert_exporter": "python",
   "pygments_lexer": "ipython3",
   "version": "3.7.13"
  },
  "orig_nbformat": 4,
  "vscode": {
   "interpreter": {
    "hash": "af835c7fa3f1d66f76e7463e82810696e6cb13c598b94db10ac6143493e4a761"
   }
  }
 },
 "nbformat": 4,
 "nbformat_minor": 2
}
