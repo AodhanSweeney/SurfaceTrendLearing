{
 "cells": [
  {
   "cell_type": "code",
   "execution_count": 10,
   "metadata": {},
   "outputs": [
    {
     "name": "stderr",
     "output_type": "stream",
     "text": [
      "/home/disk/p/aodhan/anaconda3/lib/python3.7/site-packages/ipykernel_launcher.py:11: RuntimeWarning: Mean of empty slice\n",
      "  # This is added back by InteractiveShellApp.init_path()\n",
      "/home/disk/p/aodhan/anaconda3/lib/python3.7/site-packages/ipykernel_launcher.py:11: RuntimeWarning: Mean of empty slice\n",
      "  # This is added back by InteractiveShellApp.init_path()\n",
      "/home/disk/p/aodhan/anaconda3/lib/python3.7/site-packages/ipykernel_launcher.py:11: RuntimeWarning: Mean of empty slice\n",
      "  # This is added back by InteractiveShellApp.init_path()\n",
      "/home/disk/p/aodhan/anaconda3/lib/python3.7/site-packages/ipykernel_launcher.py:42: RuntimeWarning: Mean of empty slice\n"
     ]
    }
   ],
   "source": [
    "import numpy as np\n",
    "import pandas as pd\n",
    "import matplotlib.pyplot as plt\n",
    "import xarray as xr\n",
    "import glob\n",
    "import xesmf as xe\n",
    "from scipy import stats\n",
    "\n",
    "def anomaly_finder(maps_ts):\n",
    "    maps_calendar = np.reshape(maps_ts, (36,12,72,144))\n",
    "    maps_anoms = maps_calendar - np.nanmean(maps_calendar, axis=0)\n",
    "    anoms_maps_ts = np.reshape(maps_anoms, (36*12,72,144))\n",
    "    return(anoms_maps_ts)\n",
    "\n",
    "def trend_map(anoms_data):\n",
    "    trend_map_data = []\n",
    "    for lat in range(72):\n",
    "        lat_data = []\n",
    "        for lon in range(144):\n",
    "            ts = anoms_data[:,lat,lon]\n",
    "            time = np.linspace(0,len(ts)-1, len(ts))\n",
    "            try:\n",
    "                trend = stats.linregress(time, ts)[0]*120\n",
    "            except:\n",
    "                trend = np.NaN\n",
    "            lat_data.append(trend)\n",
    "        trend_map_data.append(lat_data)\n",
    "    return(trend_map_data)\n",
    "\n",
    "def smoother(anoms_data):\n",
    "    for time in range(432):\n",
    "        for lat in range(72):\n",
    "            for lon in range(144):\n",
    "                if np.isnan(anoms_data[time,lat,lon]):\n",
    "                    surrounding_points = []\n",
    "                    for lat_idx in [-1,0,1]:\n",
    "                        for lon_idx in [-1,0,1]:\n",
    "                            try:\n",
    "                                surrounding_points.append(anoms_data[time,lat+lat_idx,lon+lon_idx])\n",
    "                            except:\n",
    "                                continue\n",
    "                    anoms_data[time,lat,lon] = np.nanmean(surrounding_points)\n",
    "                else:\n",
    "                    continue\n",
    "    return(anoms_data)\n",
    "\n",
    "def LongitudeReorganizer(trend_map):\n",
    "    trend_map = np.array(trend_map)\n",
    "    trend_map = np.concatenate([trend_map[:,72:], trend_map[:,:72]], axis=1)\n",
    "    return(trend_map)\n",
    "\n",
    "\n",
    "in_situ_path = '/home/disk/pna2/aodhan/insitu_surface_products/'\n",
    "\n",
    "ds_out = xe.util.grid_2d(-180.0, 180.0, 2.5, -90.0, 90.0, 2.5)\n",
    "\n",
    "gistemp = xr.open_dataset(in_situ_path + 'gistemp1200_GHCNv4_ERSSTv5.nc')#.tempanomaly.values[-515:-83]\n",
    "regridder_gistemp = xe.Regridder(gistemp, ds_out, 'bilinear', periodic=True)\n",
    "gistemp_rg = regridder_gistemp(gistemp.tempanomaly)\n",
    "gistemp_rg = gistemp_rg[-515:-83]\n",
    "gistemp_anoms_ts = anomaly_finder(gistemp_rg.values)\n",
    "gistemp_anoms_ts = smoother(gistemp_anoms_ts)\n",
    "gistemp_trends = trend_map(gistemp_anoms_ts)\n",
    "gistemp_trends = LongitudeReorganizer(gistemp_trends)\n",
    "np.save('/home/disk/p/aodhan/SurfaceTrendLearing/PolarApplication/TASObsTrends/GISTEMPTrendMap19792014', gistemp_trends)\n",
    "\n",
    "era5 = xr.open_dataset(in_situ_path + 'ERA5_TAS_monthly_1979_2014.nc')#.t2m.valuesls\n",
    "regridder_era5 = xe.Regridder(era5, ds_out, 'bilinear', periodic=True)\n",
    "era5_rg = regridder_era5(era5.t2m)\n",
    "era5_anoms_ts = anomaly_finder(era5_rg.values)\n",
    "era5_trends = trend_map(era5_anoms_ts)\n",
    "era5_trends = LongitudeReorganizer(era5_trends)\n",
    "np.save('/home/disk/p/aodhan/SurfaceTrendLearing/PolarApplication/TASObsTrends/ERA5TrendMap19792014', era5_trends)\n",
    "\n",
    "hadcrut = xr.open_dataset(in_situ_path + 'HadCRUT.5.0.1.0.analysis.anomalies.ensemble_mean.nc')#.tas_mean.values[-515:-83]\n",
    "regridder_hadcrut = xe.Regridder(hadcrut, ds_out, 'bilinear', periodic=True)\n",
    "hadcrut_rg = regridder_hadcrut(hadcrut.tas_mean)\n",
    "hadcrut_rg = hadcrut_rg[-515:-83]\n",
    "hadcrut_anoms_ts = anomaly_finder(hadcrut_rg.values)\n",
    "hadcrut_anoms_ts = smoother(hadcrut_anoms_ts)\n",
    "hadcrut_trends = trend_map(hadcrut_anoms_ts)\n",
    "hadcrut_trends = LongitudeReorganizer(hadcrut_trends)\n",
    "np.save('/home/disk/p/aodhan/SurfaceTrendLearing/PolarApplication/TASObsTrends/HadCrutTrendMap19792014', hadcrut_trends)\n",
    "\n",
    "noaa = xr.open_dataset(in_situ_path + 'NOAAGlobalTemp_v5.0.0_gridded_s188001_e202111_c20211210T133255.nc')#.anom.values[-515:-83]\n",
    "regridder_noaa = xe.Regridder(noaa, ds_out, 'bilinear', periodic=True)\n",
    "noaa_rg = regridder_noaa(noaa.anom)\n",
    "noaa_rg = noaa_rg[-515:-83]\n",
    "noaa_anoms_ts = anomaly_finder(noaa_rg.values)\n",
    "noaa_anoms_ts = smoother(noaa_anoms_ts)\n",
    "noaa_trends = trend_map(noaa_anoms_ts)\n",
    "noaa_trends = LongitudeReorganizer(noaa_trends)\n"
   ]
  },
  {
   "cell_type": "code",
   "execution_count": null,
   "metadata": {},
   "outputs": [],
   "source": []
  },
  {
   "cell_type": "code",
   "execution_count": null,
   "metadata": {},
   "outputs": [],
   "source": []
  }
 ],
 "metadata": {
  "kernelspec": {
   "display_name": "Python 3.7.13 ('base': conda)",
   "language": "python",
   "name": "python3"
  },
  "language_info": {
   "codemirror_mode": {
    "name": "ipython",
    "version": 3
   },
   "file_extension": ".py",
   "mimetype": "text/x-python",
   "name": "python",
   "nbconvert_exporter": "python",
   "pygments_lexer": "ipython3",
   "version": "3.7.13"
  },
  "orig_nbformat": 4,
  "vscode": {
   "interpreter": {
    "hash": "af835c7fa3f1d66f76e7463e82810696e6cb13c598b94db10ac6143493e4a761"
   }
  }
 },
 "nbformat": 4,
 "nbformat_minor": 2
}
