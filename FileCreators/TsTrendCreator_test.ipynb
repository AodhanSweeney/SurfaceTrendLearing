{
 "cells": [
  {
   "cell_type": "code",
   "execution_count": 1,
   "id": "bce0247a-3a18-4d2e-b647-7abe43803a23",
   "metadata": {},
   "outputs": [],
   "source": [
    "# Import statements\n",
    "import numpy as np\n",
    "import pandas as pd\n",
    "import matplotlib.pyplot as plt\n",
    "import netCDF4 as nc\n",
    "import xesmf as xe\n",
    "\n",
    "# Path to data folder\n",
    "path_to_data = '/home/disk/pna2/aodhan/SurfaceTrendLearning/'\n",
    "path_to_raw_trends = path_to_data + 'ts_trends.pickle'\n",
    "\n",
    "# Load dictionary which containes all 19 year trends\n",
    "TrendDictionary = pd.read_pickle(path_to_raw_trends)"
   ]
  },
  {
   "cell_type": "code",
   "execution_count": 4,
   "id": "4e1a319d-cafc-4082-9e08-018d7979a894",
   "metadata": {},
   "outputs": [
    {
     "name": "stderr",
     "output_type": "stream",
     "text": [
      "/home/disk/p/aodhan/anaconda3/lib/python3.7/site-packages/ipykernel_launcher.py:22: VisibleDeprecationWarning: Creating an ndarray from ragged nested sequences (which is a list-or-tuple of lists-or-tuples-or ndarrays with different lengths or shapes) is deprecated. If you meant to do this, you must specify 'dtype=object' when creating the ndarray.\n"
     ]
    },
    {
     "name": "stdout",
     "output_type": "stream",
     "text": [
      "(30, 72, 144)\n"
     ]
    },
    {
     "data": {
      "image/png": "[encoded data removed]",
      "text/plain": [
       "<Figure size 640x480 with 1 Axes>"
      ]
     },
     "metadata": {},
     "output_type": "display_data"
    }
   ],
   "source": [
    "models_for_training_count = 0 # Count of models with at least 10 ensembles\n",
    "training_maps = []\n",
    "for model in TrendDictionary.keys():\n",
    "    if (len(TrendDictionary[model].keys())) >= 11:\n",
    "        # CMIP6 models must be regridded, below we define input and output grids\n",
    "        InputGrid = TrendDictionary[model]['grid']\n",
    "        OutputGrid = {\"lon\": np.arange(1.25, 358.751, 2.5), \"lat\": np.arange(-88.75, 88.751, 2.5)}\n",
    "        regridder = xe.Regridder(InputGrid, OutputGrid, \"bilinear\")\n",
    "        models_for_training_count +=1\n",
    "\n",
    "        # regrid the trend maps for each ensemble member and time period\n",
    "        EnsembleTrendsArray = []\n",
    "        for ensemble_name in TrendDictionary[model].keys():\n",
    "            # data is stored with first element as grid of model\n",
    "            if ensemble_name == 'grid':\n",
    "                continue\n",
    "\n",
    "            ensemble_member = TrendDictionary[model][ensemble_name]\n",
    "\n",
    "            # return the timeperiods and trend maps in ensemble_member dictionary\n",
    "            result = ensemble_member.items()\n",
    "            data = np.array(list(result))\n",
    "            timeperiods = data[:,0]\n",
    "            timeperiods = np.array([list(period) for period in timeperiods]) # we will use this as indices for NetCDF\n",
    "            trend_maps = data[:,1] # these are the indivisual 19 year trend maps\n",
    "\n",
    "            # Regrid trend map to 2.5 x 2.5 grid\n",
    "            trend_maps_2p5x2p5 = [regridder(trend_maps[i]) for i in range(0, len(trend_maps))]\n",
    "\n",
    "            # Return all ensemble trends \n",
    "            EnsembleTrendsArray.append(trend_maps_2p5x2p5)\n",
    "        \n",
    "\n",
    "        EnsembleTrendsArray = np.array(EnsembleTrendsArray)\n",
    "        ForcedTrend = np.nanmean(EnsembleTrendsArray, axis=0)\n",
    "        NaturalTrendsArray = EnsembleTrendsArray - ForcedTrend\n",
    "        ForcedNaturalTraining = [[NaturalTrendsArray[i], ForcedTrend] for i in range(0, len(NaturalTrendsArray))]\n",
    "\n",
    "        print(np.shape(ForcedTrend))\n",
    "        plt.contourf(ForcedTrend[0])\n",
    "\n",
    "        # Training data will be dumped into NetCDF files\n",
    "        fileName = path_to_data + model.replace(\"-\", \"_\") + '_TS_TrendMaps.nc'\n",
    "        # Create file with dimensions\n",
    "        ds = nc.Dataset(fileName, 'w', format='NETCDF4')\n",
    "        ensemble_member = ds.createDimension('ensemble_member', len(ForcedNaturalTraining))\n",
    "        ForcedNatural = ds.createDimension('ForcedNatural', 2)\n",
    "        TrendTimePeriod = ds.createDimension('TrendTimePeriod', 30)\n",
    "        Lat = ds.createDimension('Lat', 72)\n",
    "        Lon = ds.createDimension('Lon', 144)\n",
    "\n",
    "        # Add variables to dimensions\n",
    "        ensemble_member = ds.createVariable('ensemble_member', int, ('ensemble_member',))\n",
    "        ForcedNatural = ds.createVariable('ForcedNatural', int, ('ForcedNatural',))\n",
    "        TrendTimePeriod = ds.createVariable('TrendTimePeriod', int, ('TrendTimePeriod',))\n",
    "        Lat = ds.createVariable('Lat', 'f4', ('Lat',))\n",
    "        Lon = ds.createVariable('Lon', 'f4', ('Lon',))\n",
    "        Ts_trends = ds.createVariable('ts_trend', 'f4', ('ensemble_member', 'ForcedNatural', 'TrendTimePeriod', 'Lat', 'Lon'))\n",
    "\n",
    "        # Assing values to variables\n",
    "        ensemble_member[:] = np.arange(len(ForcedNaturalTraining)) + 1\n",
    "        ForcedNatural[:] = [0,1]\n",
    "        TrendTimePeriod[:] = timeperiods[:,0]\n",
    "        Lat[:] = np.arange(-88.75, 88.751, 2.5)\n",
    "        Lon[:] = np.arange(1.25, 358.751, 2.5)\n",
    "        Ts_trends[:] = ForcedNaturalTraining\n",
    "\n",
    "        ds.close()\n",
    "\n"
   ]
  },
  {
   "cell_type": "code",
   "execution_count": null,
   "id": "ffb811c4",
   "metadata": {},
   "outputs": [],
   "source": []
  }
 ],
 "metadata": {
  "kernelspec": {
   "display_name": "Python 3.7.13 ('base': conda)",
   "language": "python",
   "name": "python3"
  },
  "language_info": {
   "codemirror_mode": {
    "name": "ipython",
    "version": 3
   },
   "file_extension": ".py",
   "mimetype": "text/x-python",
   "name": "python",
   "nbconvert_exporter": "python",
   "pygments_lexer": "ipython3",
   "version": "3.7.13"
  },
  "vscode": {
   "interpreter": {
    "hash": "af835c7fa3f1d66f76e7463e82810696e6cb13c598b94db10ac6143493e4a761"
   }
  }
 },
 "nbformat": 4,
 "nbformat_minor": 5
}
